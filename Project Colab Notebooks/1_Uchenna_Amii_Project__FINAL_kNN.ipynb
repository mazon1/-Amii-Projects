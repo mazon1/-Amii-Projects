{
  "nbformat": 4,
  "nbformat_minor": 0,
  "metadata": {
    "kernelspec": {
      "display_name": "Python 3",
      "language": "python",
      "name": "python3"
    },
    "language_info": {
      "codemirror_mode": {
        "name": "ipython",
        "version": 3
      },
      "file_extension": ".py",
      "mimetype": "text/x-python",
      "name": "python",
      "nbconvert_exporter": "python",
      "pygments_lexer": "ipython3",
      "version": "3.7.1"
    },
    "colab": {
      "name": " 1. Amii Project _FINAL_kNN.ipynb",
      "provenance": [],
      "collapsed_sections": []
    }
  },
  "cells": [
    {
      "cell_type": "markdown",
      "metadata": {
        "id": "miYScILzE5PO"
      },
      "source": [
        "### Import Libraries & Read in Data"
      ]
    },
    {
      "cell_type": "code",
      "metadata": {
        "scrolled": true,
        "id": "0-6RrvovE5PO",
        "colab": {
          "base_uri": "https://localhost:8080/",
          "height": 275
        },
        "outputId": "d70e5401-ab62-4669-c066-ddf792e5cd9a"
      },
      "source": [
        "import pandas as pd\n",
        "import numpy as np\n",
        "import plotly.express as px\n",
        "from sklearn.model_selection import train_test_split\n",
        "import plotly.graph_objects as go\n",
        "import seaborn as sns\n",
        "\n",
        "# import google drive\n",
        "from google.colab import drive\n",
        "drive.mount('/content/drive/')\n",
        "\n",
        "# Change directory to google drive- Just upload the file right into the drive you want(Uchennamachine) for easy access\n",
        "%cd /content/drive/My Drive/\n",
        "\n",
        "df = pd.read_csv(\"nasa_data.csv\")\n",
        "\n",
        "#define titanic - you'd need this going forward\n",
        "nasa = pd.read_csv('nasa_data.csv')\n",
        "nasa.head()"
      ],
      "execution_count": null,
      "outputs": [
        {
          "output_type": "stream",
          "text": [
            "Mounted at /content/drive/\n",
            "/content/drive/My Drive\n"
          ],
          "name": "stdout"
        },
        {
          "output_type": "execute_result",
          "data": {
            "text/html": [
              "<div>\n",
              "<style scoped>\n",
              "    .dataframe tbody tr th:only-of-type {\n",
              "        vertical-align: middle;\n",
              "    }\n",
              "\n",
              "    .dataframe tbody tr th {\n",
              "        vertical-align: top;\n",
              "    }\n",
              "\n",
              "    .dataframe thead th {\n",
              "        text-align: right;\n",
              "    }\n",
              "</style>\n",
              "<table border=\"1\" class=\"dataframe\">\n",
              "  <thead>\n",
              "    <tr style=\"text-align: right;\">\n",
              "      <th></th>\n",
              "      <th>unit_number</th>\n",
              "      <th>time_in_cycles</th>\n",
              "      <th>Altitud</th>\n",
              "      <th>Mach Number</th>\n",
              "      <th>TRA</th>\n",
              "      <th>T2</th>\n",
              "      <th>T24</th>\n",
              "      <th>T30</th>\n",
              "      <th>T50</th>\n",
              "      <th>P2</th>\n",
              "      <th>P15</th>\n",
              "      <th>P30</th>\n",
              "      <th>Nf</th>\n",
              "      <th>Nc</th>\n",
              "      <th>epr</th>\n",
              "      <th>Ps30</th>\n",
              "      <th>phi</th>\n",
              "      <th>NRf</th>\n",
              "      <th>NRc</th>\n",
              "      <th>BPR</th>\n",
              "      <th>farB</th>\n",
              "      <th>htBleed</th>\n",
              "      <th>Nf_dmd</th>\n",
              "      <th>PCNfR_dmd</th>\n",
              "      <th>W31</th>\n",
              "      <th>W32</th>\n",
              "      <th>condition</th>\n",
              "      <th>max_cycles</th>\n",
              "      <th>target</th>\n",
              "    </tr>\n",
              "  </thead>\n",
              "  <tbody>\n",
              "    <tr>\n",
              "      <th>0</th>\n",
              "      <td>1</td>\n",
              "      <td>1</td>\n",
              "      <td>-0.0007</td>\n",
              "      <td>-0.0004</td>\n",
              "      <td>100.0</td>\n",
              "      <td>518.67</td>\n",
              "      <td>641.82</td>\n",
              "      <td>1589.70</td>\n",
              "      <td>1400.60</td>\n",
              "      <td>14.62</td>\n",
              "      <td>21.61</td>\n",
              "      <td>554.36</td>\n",
              "      <td>2388.06</td>\n",
              "      <td>9046.19</td>\n",
              "      <td>1.3</td>\n",
              "      <td>47.47</td>\n",
              "      <td>521.66</td>\n",
              "      <td>2388.02</td>\n",
              "      <td>8138.62</td>\n",
              "      <td>8.4195</td>\n",
              "      <td>0.03</td>\n",
              "      <td>392</td>\n",
              "      <td>2388</td>\n",
              "      <td>100.0</td>\n",
              "      <td>39.06</td>\n",
              "      <td>23.4190</td>\n",
              "      <td>1</td>\n",
              "      <td>192</td>\n",
              "      <td>191</td>\n",
              "    </tr>\n",
              "    <tr>\n",
              "      <th>1</th>\n",
              "      <td>1</td>\n",
              "      <td>2</td>\n",
              "      <td>0.0019</td>\n",
              "      <td>-0.0003</td>\n",
              "      <td>100.0</td>\n",
              "      <td>518.67</td>\n",
              "      <td>642.15</td>\n",
              "      <td>1591.82</td>\n",
              "      <td>1403.14</td>\n",
              "      <td>14.62</td>\n",
              "      <td>21.61</td>\n",
              "      <td>553.75</td>\n",
              "      <td>2388.04</td>\n",
              "      <td>9044.07</td>\n",
              "      <td>1.3</td>\n",
              "      <td>47.49</td>\n",
              "      <td>522.28</td>\n",
              "      <td>2388.07</td>\n",
              "      <td>8131.49</td>\n",
              "      <td>8.4318</td>\n",
              "      <td>0.03</td>\n",
              "      <td>392</td>\n",
              "      <td>2388</td>\n",
              "      <td>100.0</td>\n",
              "      <td>39.00</td>\n",
              "      <td>23.4236</td>\n",
              "      <td>1</td>\n",
              "      <td>192</td>\n",
              "      <td>190</td>\n",
              "    </tr>\n",
              "    <tr>\n",
              "      <th>2</th>\n",
              "      <td>1</td>\n",
              "      <td>3</td>\n",
              "      <td>-0.0043</td>\n",
              "      <td>0.0003</td>\n",
              "      <td>100.0</td>\n",
              "      <td>518.67</td>\n",
              "      <td>642.35</td>\n",
              "      <td>1587.99</td>\n",
              "      <td>1404.20</td>\n",
              "      <td>14.62</td>\n",
              "      <td>21.61</td>\n",
              "      <td>554.26</td>\n",
              "      <td>2388.08</td>\n",
              "      <td>9052.94</td>\n",
              "      <td>1.3</td>\n",
              "      <td>47.27</td>\n",
              "      <td>522.42</td>\n",
              "      <td>2388.03</td>\n",
              "      <td>8133.23</td>\n",
              "      <td>8.4178</td>\n",
              "      <td>0.03</td>\n",
              "      <td>390</td>\n",
              "      <td>2388</td>\n",
              "      <td>100.0</td>\n",
              "      <td>38.95</td>\n",
              "      <td>23.3442</td>\n",
              "      <td>1</td>\n",
              "      <td>192</td>\n",
              "      <td>189</td>\n",
              "    </tr>\n",
              "    <tr>\n",
              "      <th>3</th>\n",
              "      <td>1</td>\n",
              "      <td>4</td>\n",
              "      <td>0.0007</td>\n",
              "      <td>0.0000</td>\n",
              "      <td>100.0</td>\n",
              "      <td>518.67</td>\n",
              "      <td>642.35</td>\n",
              "      <td>1582.79</td>\n",
              "      <td>1401.87</td>\n",
              "      <td>14.62</td>\n",
              "      <td>21.61</td>\n",
              "      <td>554.45</td>\n",
              "      <td>2388.11</td>\n",
              "      <td>9049.48</td>\n",
              "      <td>1.3</td>\n",
              "      <td>47.13</td>\n",
              "      <td>522.86</td>\n",
              "      <td>2388.08</td>\n",
              "      <td>8133.83</td>\n",
              "      <td>8.3682</td>\n",
              "      <td>0.03</td>\n",
              "      <td>392</td>\n",
              "      <td>2388</td>\n",
              "      <td>100.0</td>\n",
              "      <td>38.88</td>\n",
              "      <td>23.3739</td>\n",
              "      <td>1</td>\n",
              "      <td>192</td>\n",
              "      <td>188</td>\n",
              "    </tr>\n",
              "    <tr>\n",
              "      <th>4</th>\n",
              "      <td>1</td>\n",
              "      <td>5</td>\n",
              "      <td>-0.0019</td>\n",
              "      <td>-0.0002</td>\n",
              "      <td>100.0</td>\n",
              "      <td>518.67</td>\n",
              "      <td>642.37</td>\n",
              "      <td>1582.85</td>\n",
              "      <td>1406.22</td>\n",
              "      <td>14.62</td>\n",
              "      <td>21.61</td>\n",
              "      <td>554.00</td>\n",
              "      <td>2388.06</td>\n",
              "      <td>9055.15</td>\n",
              "      <td>1.3</td>\n",
              "      <td>47.28</td>\n",
              "      <td>522.19</td>\n",
              "      <td>2388.04</td>\n",
              "      <td>8133.80</td>\n",
              "      <td>8.4294</td>\n",
              "      <td>0.03</td>\n",
              "      <td>393</td>\n",
              "      <td>2388</td>\n",
              "      <td>100.0</td>\n",
              "      <td>38.90</td>\n",
              "      <td>23.4044</td>\n",
              "      <td>1</td>\n",
              "      <td>192</td>\n",
              "      <td>187</td>\n",
              "    </tr>\n",
              "  </tbody>\n",
              "</table>\n",
              "</div>"
            ],
            "text/plain": [
              "   unit_number  time_in_cycles  Altitud  ...  condition  max_cycles  target\n",
              "0            1               1  -0.0007  ...          1         192     191\n",
              "1            1               2   0.0019  ...          1         192     190\n",
              "2            1               3  -0.0043  ...          1         192     189\n",
              "3            1               4   0.0007  ...          1         192     188\n",
              "4            1               5  -0.0019  ...          1         192     187\n",
              "\n",
              "[5 rows x 29 columns]"
            ]
          },
          "metadata": {
            "tags": []
          },
          "execution_count": 1
        }
      ]
    },
    {
      "cell_type": "code",
      "metadata": {
        "id": "GLDMQYqhSDSW"
      },
      "source": [
        "#defining a new target variable based on a minimum threshold of 25\n",
        "target = 25\n",
        "label_positive =nasa['target'] <= target \n",
        "nasa['label_target']=1\n",
        "nasa.loc[label_positive,'label_target'] = 0\n",
        "\n",
        "#Unit number not likely to be relevant to the process, also condition is just the data set #\n",
        "nasa.drop(columns=['max_cycles','target','unit_number','condition'],inplace = True)"
      ],
      "execution_count": null,
      "outputs": []
    },
    {
      "cell_type": "markdown",
      "metadata": {
        "id": "qzd1RE90E5PR"
      },
      "source": [
        "### Split into train and test set\n",
        "Note: Final Test set not included so technically , test set referred to here is the validation set\n",
        "\n"
      ]
    },
    {
      "cell_type": "code",
      "metadata": {
        "id": "o4gHPPiKE5PR"
      },
      "source": [
        "X = nasa.drop(['label_target'], axis=1)\n",
        "y = nasa['label_target']\n",
        "\n",
        "#splitting the data set (note we already have an actual test set, so this test set here is the validation set)\n",
        "X_train, X_val, y_train, y_val = train_test_split( X, y, test_size=0.33, random_state=42,stratify=y)"
      ],
      "execution_count": null,
      "outputs": []
    },
    {
      "cell_type": "code",
      "metadata": {
        "id": "3wjTKh_LE5PR",
        "colab": {
          "base_uri": "https://localhost:8080/"
        },
        "outputId": "30183593-ce7a-462a-fe5b-86684dada22a"
      },
      "source": [
        "#confirming that the split was done (67% to 33%)\n",
        "for dataset in [y_train, y_val]:\n",
        "    print(round(len(dataset) / len(y), 2))"
      ],
      "execution_count": null,
      "outputs": [
        {
          "output_type": "stream",
          "text": [
            "0.67\n",
            "0.33\n"
          ],
          "name": "stdout"
        }
      ]
    },
    {
      "cell_type": "code",
      "metadata": {
        "colab": {
          "base_uri": "https://localhost:8080/",
          "height": 241
        },
        "id": "JQMT3i_VTGmM",
        "outputId": "7499c6fc-f960-417e-8e8a-d815ce561e81"
      },
      "source": [
        "#Display X_train\n",
        "X_train.head()"
      ],
      "execution_count": null,
      "outputs": [
        {
          "output_type": "execute_result",
          "data": {
            "text/html": [
              "<div>\n",
              "<style scoped>\n",
              "    .dataframe tbody tr th:only-of-type {\n",
              "        vertical-align: middle;\n",
              "    }\n",
              "\n",
              "    .dataframe tbody tr th {\n",
              "        vertical-align: top;\n",
              "    }\n",
              "\n",
              "    .dataframe thead th {\n",
              "        text-align: right;\n",
              "    }\n",
              "</style>\n",
              "<table border=\"1\" class=\"dataframe\">\n",
              "  <thead>\n",
              "    <tr style=\"text-align: right;\">\n",
              "      <th></th>\n",
              "      <th>time_in_cycles</th>\n",
              "      <th>Altitud</th>\n",
              "      <th>Mach Number</th>\n",
              "      <th>TRA</th>\n",
              "      <th>T2</th>\n",
              "      <th>T24</th>\n",
              "      <th>T30</th>\n",
              "      <th>T50</th>\n",
              "      <th>P2</th>\n",
              "      <th>P15</th>\n",
              "      <th>P30</th>\n",
              "      <th>Nf</th>\n",
              "      <th>Nc</th>\n",
              "      <th>epr</th>\n",
              "      <th>Ps30</th>\n",
              "      <th>phi</th>\n",
              "      <th>NRf</th>\n",
              "      <th>NRc</th>\n",
              "      <th>BPR</th>\n",
              "      <th>farB</th>\n",
              "      <th>htBleed</th>\n",
              "      <th>Nf_dmd</th>\n",
              "      <th>PCNfR_dmd</th>\n",
              "      <th>W31</th>\n",
              "      <th>W32</th>\n",
              "    </tr>\n",
              "  </thead>\n",
              "  <tbody>\n",
              "    <tr>\n",
              "      <th>159047</th>\n",
              "      <td>299</td>\n",
              "      <td>35.0020</td>\n",
              "      <td>0.8417</td>\n",
              "      <td>100.0</td>\n",
              "      <td>449.44</td>\n",
              "      <td>555.10</td>\n",
              "      <td>1369.15</td>\n",
              "      <td>1140.66</td>\n",
              "      <td>5.48</td>\n",
              "      <td>7.98</td>\n",
              "      <td>198.02</td>\n",
              "      <td>2223.46</td>\n",
              "      <td>8387.89</td>\n",
              "      <td>1.04</td>\n",
              "      <td>42.45</td>\n",
              "      <td>186.91</td>\n",
              "      <td>2388.57</td>\n",
              "      <td>8107.35</td>\n",
              "      <td>9.1173</td>\n",
              "      <td>0.02</td>\n",
              "      <td>336</td>\n",
              "      <td>2223</td>\n",
              "      <td>100.00</td>\n",
              "      <td>15.15</td>\n",
              "      <td>9.2185</td>\n",
              "    </tr>\n",
              "    <tr>\n",
              "      <th>32086</th>\n",
              "      <td>64</td>\n",
              "      <td>42.0064</td>\n",
              "      <td>0.8400</td>\n",
              "      <td>100.0</td>\n",
              "      <td>445.00</td>\n",
              "      <td>549.32</td>\n",
              "      <td>1352.52</td>\n",
              "      <td>1114.88</td>\n",
              "      <td>3.91</td>\n",
              "      <td>5.71</td>\n",
              "      <td>138.64</td>\n",
              "      <td>2211.92</td>\n",
              "      <td>8327.77</td>\n",
              "      <td>1.02</td>\n",
              "      <td>42.14</td>\n",
              "      <td>130.60</td>\n",
              "      <td>2387.94</td>\n",
              "      <td>8087.11</td>\n",
              "      <td>9.3617</td>\n",
              "      <td>0.02</td>\n",
              "      <td>329</td>\n",
              "      <td>2212</td>\n",
              "      <td>100.00</td>\n",
              "      <td>10.65</td>\n",
              "      <td>6.2992</td>\n",
              "    </tr>\n",
              "    <tr>\n",
              "      <th>155840</th>\n",
              "      <td>196</td>\n",
              "      <td>35.0050</td>\n",
              "      <td>0.8400</td>\n",
              "      <td>100.0</td>\n",
              "      <td>449.44</td>\n",
              "      <td>555.15</td>\n",
              "      <td>1363.23</td>\n",
              "      <td>1126.76</td>\n",
              "      <td>5.48</td>\n",
              "      <td>7.98</td>\n",
              "      <td>196.53</td>\n",
              "      <td>2223.24</td>\n",
              "      <td>8363.38</td>\n",
              "      <td>1.03</td>\n",
              "      <td>41.95</td>\n",
              "      <td>184.96</td>\n",
              "      <td>2388.39</td>\n",
              "      <td>8089.61</td>\n",
              "      <td>9.2291</td>\n",
              "      <td>0.02</td>\n",
              "      <td>334</td>\n",
              "      <td>2223</td>\n",
              "      <td>100.00</td>\n",
              "      <td>14.98</td>\n",
              "      <td>9.1078</td>\n",
              "    </tr>\n",
              "    <tr>\n",
              "      <th>134494</th>\n",
              "      <td>98</td>\n",
              "      <td>20.0057</td>\n",
              "      <td>0.7007</td>\n",
              "      <td>100.0</td>\n",
              "      <td>491.19</td>\n",
              "      <td>607.12</td>\n",
              "      <td>1479.43</td>\n",
              "      <td>1245.62</td>\n",
              "      <td>9.35</td>\n",
              "      <td>13.65</td>\n",
              "      <td>335.13</td>\n",
              "      <td>2323.97</td>\n",
              "      <td>8738.27</td>\n",
              "      <td>1.08</td>\n",
              "      <td>43.99</td>\n",
              "      <td>315.50</td>\n",
              "      <td>2388.14</td>\n",
              "      <td>8079.62</td>\n",
              "      <td>9.2126</td>\n",
              "      <td>0.02</td>\n",
              "      <td>364</td>\n",
              "      <td>2324</td>\n",
              "      <td>100.00</td>\n",
              "      <td>24.61</td>\n",
              "      <td>14.6590</td>\n",
              "    </tr>\n",
              "    <tr>\n",
              "      <th>126998</th>\n",
              "      <td>25</td>\n",
              "      <td>25.0076</td>\n",
              "      <td>0.6215</td>\n",
              "      <td>60.0</td>\n",
              "      <td>462.54</td>\n",
              "      <td>537.00</td>\n",
              "      <td>1261.28</td>\n",
              "      <td>1051.99</td>\n",
              "      <td>7.05</td>\n",
              "      <td>9.02</td>\n",
              "      <td>175.36</td>\n",
              "      <td>1915.08</td>\n",
              "      <td>7997.95</td>\n",
              "      <td>0.94</td>\n",
              "      <td>36.81</td>\n",
              "      <td>164.57</td>\n",
              "      <td>2027.95</td>\n",
              "      <td>7860.80</td>\n",
              "      <td>10.9176</td>\n",
              "      <td>0.02</td>\n",
              "      <td>308</td>\n",
              "      <td>1915</td>\n",
              "      <td>84.93</td>\n",
              "      <td>14.33</td>\n",
              "      <td>8.4650</td>\n",
              "    </tr>\n",
              "  </tbody>\n",
              "</table>\n",
              "</div>"
            ],
            "text/plain": [
              "        time_in_cycles  Altitud  Mach Number  ...  PCNfR_dmd    W31      W32\n",
              "159047             299  35.0020       0.8417  ...     100.00  15.15   9.2185\n",
              "32086               64  42.0064       0.8400  ...     100.00  10.65   6.2992\n",
              "155840             196  35.0050       0.8400  ...     100.00  14.98   9.1078\n",
              "134494              98  20.0057       0.7007  ...     100.00  24.61  14.6590\n",
              "126998              25  25.0076       0.6215  ...      84.93  14.33   8.4650\n",
              "\n",
              "[5 rows x 25 columns]"
            ]
          },
          "metadata": {
            "tags": []
          },
          "execution_count": 5
        }
      ]
    },
    {
      "cell_type": "markdown",
      "metadata": {
        "id": "vkOhTJccE5PS"
      },
      "source": [
        "### Write out all data"
      ]
    },
    {
      "cell_type": "code",
      "metadata": {
        "id": "J4EvDMMVE5PS"
      },
      "source": [
        "X_train.to_csv('nasatrain_features.csv', index=False)\n",
        "X_val.to_csv('nasaval_features.csv', index=False)\n",
        "\n",
        "\n",
        "y_train.to_csv('nasatrain_labels.csv', index=False)\n",
        "y_val.to_csv('nasaval_labels.csv', index=False)\n"
      ],
      "execution_count": null,
      "outputs": []
    },
    {
      "cell_type": "code",
      "metadata": {
        "id": "q_mrcSQdE5PS"
      },
      "source": [
        "#Read in Training Data\n",
        "tr_features = pd.read_csv('nasatrain_features.csv')\n",
        "tr_labels = pd.read_csv('nasatrain_labels.csv')"
      ],
      "execution_count": null,
      "outputs": []
    },
    {
      "cell_type": "code",
      "metadata": {
        "id": "Ym3iH3oQU-tb"
      },
      "source": [
        "#Define Results to print\n",
        "def print_results(results):\n",
        "    print('BEST PARAMS: {}\\n'.format(results.best_params_))\n",
        "\n",
        "    means = results.cv_results_['mean_test_score']\n",
        "    stds = results.cv_results_['std_test_score']\n",
        "    for mean, std, params in zip(means, stds, results.cv_results_['params']):\n",
        "        print('{} (+/-{}) for {}'.format(round(mean, 3), round(std * 2, 3), params))"
      ],
      "execution_count": null,
      "outputs": []
    },
    {
      "cell_type": "markdown",
      "metadata": {
        "id": "j3-SyqaXZmvm"
      },
      "source": [
        "# kNN "
      ]
    },
    {
      "cell_type": "code",
      "metadata": {
        "id": "khWtjpw2Zp2J"
      },
      "source": [
        "#importing Libraries\n",
        "from sklearn.neighbors import KNeighborsClassifier\n",
        "import joblib\n",
        "import pandas as pd\n",
        "from sklearn.model_selection import GridSearchCV\n",
        "import warnings\n",
        "warnings.filterwarnings('ignore', category=FutureWarning)\n",
        "warnings.filterwarnings('ignore', category=DeprecationWarning)"
      ],
      "execution_count": null,
      "outputs": []
    },
    {
      "cell_type": "code",
      "metadata": {
        "colab": {
          "base_uri": "https://localhost:8080/"
        },
        "id": "6StCulNUh6oj",
        "outputId": "dc26678d-1a2a-4632-dce1-9bd06a8d7486"
      },
      "source": [
        "# To show list of hyperparameters that we can tune\n",
        "KNeighborsClassifier()\n"
      ],
      "execution_count": null,
      "outputs": [
        {
          "output_type": "execute_result",
          "data": {
            "text/plain": [
              "KNeighborsClassifier(algorithm='auto', leaf_size=30, metric='minkowski',\n",
              "                     metric_params=None, n_jobs=None, n_neighbors=5, p=2,\n",
              "                     weights='uniform')"
            ]
          },
          "metadata": {
            "tags": []
          },
          "execution_count": 13
        }
      ]
    },
    {
      "cell_type": "code",
      "metadata": {
        "colab": {
          "base_uri": "https://localhost:8080/"
        },
        "id": "GvDolub4Z4xu",
        "outputId": "74e314c3-e1eb-4dd1-d1ff-4ca3314d6717"
      },
      "source": [
        "#Fitting the Model and Evaluating\n",
        "knn = KNeighborsClassifier()\n",
        "parameters = {\n",
        "    'n_neighbors': [1,3, 5,11,15,20],\n",
        "    # to test 1,3,5,10,15,20 leaves,\n",
        "    'weights':['uniform','distance']\n",
        "    \n",
        "}\n",
        "#using GridSearchCV to loop through predefined hyperparameters and fit your estimator (model) on your training set\n",
        "cv = GridSearchCV(knn,parameters, cv = 5)\n",
        "#cv = 5 meaning it will run 5-fold validation for each hyperparameter combination\n",
        "cv.fit(tr_features,tr_labels.values.ravel())\n",
        "# we use ravel for the labels to convert it to an array, since the label is usually just one column and the algorithm expects an array\n",
        "print_results(cv)"
      ],
      "execution_count": null,
      "outputs": [
        {
          "output_type": "stream",
          "text": [
            "BEST PARAMS: {'n_neighbors': 15, 'weights': 'distance'}\n",
            "\n",
            "0.943 (+/-0.002) for {'n_neighbors': 1, 'weights': 'uniform'}\n",
            "0.943 (+/-0.002) for {'n_neighbors': 1, 'weights': 'distance'}\n",
            "0.951 (+/-0.002) for {'n_neighbors': 3, 'weights': 'uniform'}\n",
            "0.951 (+/-0.002) for {'n_neighbors': 3, 'weights': 'distance'}\n",
            "0.953 (+/-0.001) for {'n_neighbors': 5, 'weights': 'uniform'}\n",
            "0.953 (+/-0.001) for {'n_neighbors': 5, 'weights': 'distance'}\n",
            "0.954 (+/-0.001) for {'n_neighbors': 11, 'weights': 'uniform'}\n",
            "0.955 (+/-0.001) for {'n_neighbors': 11, 'weights': 'distance'}\n",
            "0.954 (+/-0.001) for {'n_neighbors': 15, 'weights': 'uniform'}\n",
            "0.955 (+/-0.002) for {'n_neighbors': 15, 'weights': 'distance'}\n",
            "0.954 (+/-0.002) for {'n_neighbors': 20, 'weights': 'uniform'}\n",
            "0.955 (+/-0.002) for {'n_neighbors': 20, 'weights': 'distance'}\n"
          ],
          "name": "stdout"
        }
      ]
    },
    {
      "cell_type": "code",
      "metadata": {
        "id": "NuhnO0CBjCVi",
        "colab": {
          "base_uri": "https://localhost:8080/"
        },
        "outputId": "b3b49119-6382-40f7-b4b7-9039e155ddbd"
      },
      "source": [
        "cv.best_estimator_"
      ],
      "execution_count": null,
      "outputs": [
        {
          "output_type": "execute_result",
          "data": {
            "text/plain": [
              "KNeighborsClassifier(algorithm='auto', leaf_size=30, metric='minkowski',\n",
              "                     metric_params=None, n_jobs=None, n_neighbors=15, p=2,\n",
              "                     weights='distance')"
            ]
          },
          "metadata": {
            "tags": []
          },
          "execution_count": 15
        }
      ]
    },
    {
      "cell_type": "markdown",
      "metadata": {
        "id": "AhOwm2HajOYK"
      },
      "source": [
        "### Write out pickled model\n",
        "We pickle the model by saving it and writing it to a file that can be used to compare with other hyperparameters performance"
      ]
    },
    {
      "cell_type": "code",
      "metadata": {
        "id": "ZSdyr66djPVR",
        "colab": {
          "base_uri": "https://localhost:8080/"
        },
        "outputId": "d6768fdf-85af-4326-d91a-2e75d86fb643"
      },
      "source": [
        "joblib.dump(cv.best_estimator_, '../../../NASAkNN_model.pkl')"
      ],
      "execution_count": null,
      "outputs": [
        {
          "output_type": "execute_result",
          "data": {
            "text/plain": [
              "['../../../NASAkNN_model.pkl']"
            ]
          },
          "metadata": {
            "tags": []
          },
          "execution_count": 16
        }
      ]
    },
    {
      "cell_type": "code",
      "metadata": {
        "id": "sWZqa3BGjXjY"
      },
      "source": [
        "cv = cv.best_estimator_\n",
        "#Predicting the labels using the optimized hyperparameters\n",
        "tr_labelspredict = cv.predict(tr_features)\n"
      ],
      "execution_count": null,
      "outputs": []
    },
    {
      "cell_type": "code",
      "metadata": {
        "id": "oGeJedQwjnJe",
        "colab": {
          "base_uri": "https://localhost:8080/"
        },
        "outputId": "a6d2ef8f-5ef7-4b6c-dbb4-104a33b3b07f"
      },
      "source": [
        "# To view accuracy score, recall score, precision score and f1 score\n",
        "from sklearn.metrics import accuracy_score, recall_score, precision_score, f1_score\n",
        "\n",
        " #Train Scores\n",
        "\n",
        "acc_train = accuracy_score(y_train,tr_labelspredict)\n",
        "p_score_train = precision_score(y_train,tr_labelspredict)\n",
        "r_score_train = recall_score(y_train,tr_labelspredict)\n",
        "f1_score_train = f1_score(y_train,tr_labelspredict)\n",
        "\n",
        " #Test Scores\n",
        "\n",
        "val_labelspredict = cv.predict(X_val)\n",
        "acc_test = accuracy_score(y_val,val_labelspredict)\n",
        "p_score_test = precision_score(y_val,val_labelspredict)\n",
        "r_score_test = recall_score(y_val,val_labelspredict)\n",
        "f1_score_test = f1_score(y_val,val_labelspredict)\n",
        "\n",
        "print(f'The Accuracy score for the training set is:{acc_train}')\n",
        "print(f'The Precision score for the training set is:{p_score_train}')\n",
        "print(f'The Recall score for the training set is:{r_score_train}')\n",
        "print(f'The F1 score for the training set is:{f1_score_train}')\n",
        "print('--------------------------------------------------------------')\n",
        "print(f'The Accuracy score for the validation set is:{acc_test}')\n",
        "print(f'The Precision score for the validation set is:{p_score_test}')\n",
        "print(f'The Recall score for the validation set is:{r_score_test}')\n",
        "print(f'The F1 score for the validation set is:{f1_score_test}')\n",
        "# train_results = [acc_train,p_score_train,r_score_train,f1_score_train]\n",
        "# test_results = [acc_test,p_score_test,r_score_test,f1_score_test]\n"
      ],
      "execution_count": null,
      "outputs": [
        {
          "output_type": "stream",
          "text": [
            "The Accuracy score for the training set is:1.0\n",
            "The Precision score for the training set is:1.0\n",
            "The Recall score for the training set is:1.0\n",
            "The F1 score for the training set is:1.0\n",
            "--------------------------------------------------------------\n",
            "The Accuracy score for the validation set is:0.9575388801753624\n",
            "The Precision score for the validation set is:0.9691109942135718\n",
            "The Recall score for the validation set is:0.9833674950892476\n",
            "The F1 score for the validation set is:0.9761871959813907\n"
          ],
          "name": "stdout"
        }
      ]
    }
  ]
}